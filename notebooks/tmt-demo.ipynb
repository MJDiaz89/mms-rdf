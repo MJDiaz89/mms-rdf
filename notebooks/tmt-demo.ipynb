{
 "cells": [
  {
   "cell_type": "code",
   "execution_count": 3,
   "metadata": {},
   "outputs": [
    {
     "data": {
      "text/html": [
       "<div class=\"krn-spql\"><div class=\"magic\">Endpoint set to: http://ec2-18-224-170-154.us-east-2.compute.amazonaws.com:3001/sparql</div><div class=\"magic\">Return format: DEFAULT</div></div>"
      ],
      "text/plain": [
       "Endpoint set to: http://ec2-18-224-170-154.us-east-2.compute.amazonaws.com:3001/sparql\n",
       "Return format: DEFAULT\n"
      ]
     },
     "metadata": {},
     "output_type": "display_data"
    }
   ],
   "source": [
    "%endpoint http://ec2-18-224-170-154.us-east-2.compute.amazonaws.com:3001/sparql\n",
    "%format default"
   ]
  },
  {
   "cell_type": "code",
   "execution_count": 25,
   "metadata": {},
   "outputs": [
    {
     "data": {
      "text/html": [
       "<div class=\"krn-spql\"><div class=\"magic\">Prefix set: rdf: = &lt;http://www.w3.org/1999/02/22-rdf-syntax-ns#&gt;</div><div class=\"magic\">Prefix set: rdfs: = &lt;http://www.w3.org/2000/01/rdf-schema#&gt;</div><div class=\"magic\">Prefix set: owl: = &lt;http://www.w3.org/2002/07/owl#&gt;</div><div class=\"magic\">Prefix set: xsd: = &lt;http://www.w3.org/2001/XMLSchema#&gt;</div><div class=\"magic\">Prefix set: xml: = &lt;http://www.w3.org/XML/1998/namespace/&gt;</div><div class=\"magic\">Prefix set: mms-ontology: = &lt;https://opencae.jpl.nasa.gov/mms/rdf/ontology/&gt;</div><div class=\"magic\">Prefix set: mms-graph: = &lt;https://opencae.jpl.nasa.gov/mms/rdf/graph/&gt;</div><div class=\"magic\">Prefix set: mms-property: = &lt;https://opencae.jpl.nasa.gov/mms/rdf/property/&gt;</div><div class=\"magic\">Prefix set: mms-class: = &lt;https://opencae.jpl.nasa.gov/mms/rdf/class/&gt;</div><div class=\"magic\">Prefix set: mms-index: = &lt;https://opencae.jpl.nasa.gov/mms/rdf/index/&gt;</div><div class=\"magic\">Prefix set: mms-object: = &lt;https://opencae.jpl.nasa.gov/mms/rdf/object/&gt;</div><div class=\"magic\">Prefix set: mms-element: = &lt;https://opencae.jpl.nasa.gov/mms/rdf/element/&gt;</div><div class=\"magic\">Prefix set: mms-artifact: = &lt;https://opencae.jpl.nasa.gov/mms/rdf/artifact/&gt;</div><div class=\"magic\">Prefix set: mms-commit: = &lt;https://opencae.jpl.nasa.gov/mms/rdf/commit/&gt;</div><div class=\"magic\">Prefix set: xmi: = &lt;http://www.omg.org/spec/XMI/20131001&gt;</div><div class=\"magic\">Prefix set: uml: = &lt;http://www.omg.org/spec/UML/20131001&gt;</div></div>"
      ],
      "text/plain": [
       "Prefix set: rdf: = <http://www.w3.org/1999/02/22-rdf-syntax-ns#>\n",
       "Prefix set: rdfs: = <http://www.w3.org/2000/01/rdf-schema#>\n",
       "Prefix set: owl: = <http://www.w3.org/2002/07/owl#>\n",
       "Prefix set: xsd: = <http://www.w3.org/2001/XMLSchema#>\n",
       "Prefix set: xml: = <http://www.w3.org/XML/1998/namespace/>\n",
       "Prefix set: mms-ontology: = <https://opencae.jpl.nasa.gov/mms/rdf/ontology/>\n",
       "Prefix set: mms-graph: = <https://opencae.jpl.nasa.gov/mms/rdf/graph/>\n",
       "Prefix set: mms-property: = <https://opencae.jpl.nasa.gov/mms/rdf/property/>\n",
       "Prefix set: mms-class: = <https://opencae.jpl.nasa.gov/mms/rdf/class/>\n",
       "Prefix set: mms-index: = <https://opencae.jpl.nasa.gov/mms/rdf/index/>\n",
       "Prefix set: mms-object: = <https://opencae.jpl.nasa.gov/mms/rdf/object/>\n",
       "Prefix set: mms-element: = <https://opencae.jpl.nasa.gov/mms/rdf/element/>\n",
       "Prefix set: mms-artifact: = <https://opencae.jpl.nasa.gov/mms/rdf/artifact/>\n",
       "Prefix set: mms-commit: = <https://opencae.jpl.nasa.gov/mms/rdf/commit/>\n",
       "Prefix set: xmi: = <http://www.omg.org/spec/XMI/20131001>\n",
       "Prefix set: uml: = <http://www.omg.org/spec/UML/20131001>\n"
      ]
     },
     "metadata": {},
     "output_type": "display_data"
    }
   ],
   "source": [
    "%prefix rdf: <http://www.w3.org/1999/02/22-rdf-syntax-ns#>\n",
    "%prefix rdfs: <http://www.w3.org/2000/01/rdf-schema#>\n",
    "%prefix owl: <http://www.w3.org/2002/07/owl#>\n",
    "%prefix xsd: <http://www.w3.org/2001/XMLSchema#>\n",
    "%prefix xml: <http://www.w3.org/XML/1998/namespace/>\n",
    "%prefix mms-ontology: <https://opencae.jpl.nasa.gov/mms/rdf/ontology/>\n",
    "%prefix mms-graph: <https://opencae.jpl.nasa.gov/mms/rdf/graph/>\n",
    "%prefix mms-property: <https://opencae.jpl.nasa.gov/mms/rdf/property/>\n",
    "%prefix mms-class: <https://opencae.jpl.nasa.gov/mms/rdf/class/>\n",
    "%prefix mms-index: <https://opencae.jpl.nasa.gov/mms/rdf/index/>\n",
    "%prefix mms-object: <https://opencae.jpl.nasa.gov/mms/rdf/object/>\n",
    "%prefix mms-element: <https://opencae.jpl.nasa.gov/mms/rdf/element/>\n",
    "%prefix mms-artifact: <https://opencae.jpl.nasa.gov/mms/rdf/artifact/>\n",
    "%prefix mms-commit: <https://opencae.jpl.nasa.gov/mms/rdf/commit/>\n",
    "%prefix xmi: <http://www.omg.org/spec/XMI/20131001>\n",
    "%prefix uml: <http://www.omg.org/spec/UML/20131001>\n"
   ]
  },
  {
   "cell_type": "markdown",
   "metadata": {},
   "source": [
    "## Look for activities which are unused\n",
    "\n",
    "*IncQuery equivalent?*"
   ]
  },
  {
   "cell_type": "code",
   "execution_count": 28,
   "metadata": {},
   "outputs": [
    {
     "data": {
      "text/html": [
       "<div class=\"krn-spql\"><table><tr class=hdr><th>activity</th>\n",
       "<th>label</th></tr><tr class=odd><td class=val><a href=\"https://opencae.jpl.nasa.gov/mms/rdf/element/_17_0_2_3_41e01aa_1380001868277_621401_52481\" target=\"_other\">https://opencae.jpl.nasa.gov/mms/rdf/element/_17_0_2_3_41e01aa_1380001868277_621401_52481</a></td>\n",
       "<td class=val>Get PIT Reference</td></tr><tr class=even><td class=val><a href=\"https://opencae.jpl.nasa.gov/mms/rdf/element/_18_0_2_baa02e2_1425151488842_898935_131517\" target=\"_other\">https://opencae.jpl.nasa.gov/mms/rdf/element/_18_0_2_baa02e2_1425151488842_898935_131517</a></td>\n",
       "<td class=val>Display cmd and RMS</td></tr><tr class=odd><td class=val><a href=\"https://opencae.jpl.nasa.gov/mms/rdf/element/_18_0_4_baa02e2_1444925033162_150799_158206\" target=\"_other\">https://opencae.jpl.nasa.gov/mms/rdf/element/_18_0_4_baa02e2_1444925033162_150799_158206</a></td>\n",
       "<td class=val>doTracking</td></tr><tr class=even><td class=val><a href=\"https://opencae.jpl.nasa.gov/mms/rdf/element/_17_0_2_3_b4c02e1_1378391971091_74251_44238\" target=\"_other\">https://opencae.jpl.nasa.gov/mms/rdf/element/_17_0_2_3_b4c02e1_1378391971091_74251_44238</a></td>\n",
       "<td class=val>Get Installed Segment</td></tr><tr class=odd><td class=val><a href=\"https://opencae.jpl.nasa.gov/mms/rdf/element/_17_0_2_3_b4c02e1_1376516995956_109127_37092\" target=\"_other\">https://opencae.jpl.nasa.gov/mms/rdf/element/_17_0_2_3_b4c02e1_1376516995956_109127_37092</a></td>\n",
       "<td class=val>Test Activity to Verify some VIP req.</td></tr><tr class=even><td class=val><a href=\"https://opencae.jpl.nasa.gov/mms/rdf/element/_17_0_5_1_876026b_1410733633761_852516_88954\" target=\"_other\">https://opencae.jpl.nasa.gov/mms/rdf/element/_17_0_5_1_876026b_1410733633761_852516_88954</a></td>\n",
       "<td class=val>05 Generate Control Matrices</td></tr><tr class=odd><td class=val><a href=\"https://opencae.jpl.nasa.gov/mms/rdf/element/_17_0_5_1_876026b_1410733634997_440573_88978\" target=\"_other\">https://opencae.jpl.nasa.gov/mms/rdf/element/_17_0_5_1_876026b_1410733634997_440573_88978</a></td>\n",
       "<td class=val>09 Check for bad sensors and actuators</td></tr><tr class=even><td class=val><a href=\"https://opencae.jpl.nasa.gov/mms/rdf/element/_17_0_5_1_876026b_1410733635384_389866_88990\" target=\"_other\">https://opencae.jpl.nasa.gov/mms/rdf/element/_17_0_5_1_876026b_1410733635384_389866_88990</a></td>\n",
       "<td class=val>11 Replace actuator or sensor</td></tr><tr class=odd><td class=val><a href=\"https://opencae.jpl.nasa.gov/mms/rdf/element/_17_0_2_3_41e01aa_1383145095589_854191_50740\" target=\"_other\">https://opencae.jpl.nasa.gov/mms/rdf/element/_17_0_2_3_41e01aa_1383145095589_854191_50740</a></td>\n",
       "<td class=val>Set APT Integration Time</td></tr><tr class=even><td class=val><a href=\"https://opencae.jpl.nasa.gov/mms/rdf/element/_17_0_2_3_b4c02e1_1378391971099_25777_44254\" target=\"_other\">https://opencae.jpl.nasa.gov/mms/rdf/element/_17_0_2_3_b4c02e1_1378391971099_25777_44254</a></td>\n",
       "<td class=val>Start Kmirror</td></tr><tr class=odd><td class=val><a href=\"https://opencae.jpl.nasa.gov/mms/rdf/element/_17_0_2_3_41e01aa_1383145114074_754648_50747\" target=\"_other\">https://opencae.jpl.nasa.gov/mms/rdf/element/_17_0_2_3_41e01aa_1383145114074_754648_50747</a></td>\n",
       "<td class=val>Set APT ROI</td></tr><tr class=even><td class=val><a href=\"https://opencae.jpl.nasa.gov/mms/rdf/element/_17_0_5_1_876026b_1410733637555_694491_89056\" target=\"_other\">https://opencae.jpl.nasa.gov/mms/rdf/element/_17_0_5_1_876026b_1410733637555_694491_89056</a></td>\n",
       "<td class=val>16 Implement trending</td></tr><tr class=odd><td class=val><a href=\"https://opencae.jpl.nasa.gov/mms/rdf/element/_18_0_5_876026b_1469219920428_897848_200162\" target=\"_other\">https://opencae.jpl.nasa.gov/mms/rdf/element/_18_0_5_876026b_1469219920428_897848_200162</a></td>\n",
       "<td class=val>decAmplitude</td></tr><tr class=even><td class=val><a href=\"https://opencae.jpl.nasa.gov/mms/rdf/element/_17_0_2_3_b4c02e1_1378391971093_760669_44241\" target=\"_other\">https://opencae.jpl.nasa.gov/mms/rdf/element/_17_0_2_3_b4c02e1_1378391971093_760669_44241</a></td>\n",
       "<td class=val>Select Filter</td></tr><tr class=odd><td class=val><a href=\"https://opencae.jpl.nasa.gov/mms/rdf/element/_17_0_2_3_b4c02e1_1378391971101_865617_44260\" target=\"_other\">https://opencae.jpl.nasa.gov/mms/rdf/element/_17_0_2_3_b4c02e1_1378391971101_865617_44260</a></td>\n",
       "<td class=val>Save M3CS Configuration</td></tr><tr class=even><td class=val><a href=\"https://opencae.jpl.nasa.gov/mms/rdf/element/_17_0_5_1_876026b_1410735342555_872570_89200\" target=\"_other\">https://opencae.jpl.nasa.gov/mms/rdf/element/_17_0_5_1_876026b_1410735342555_872570_89200</a></td>\n",
       "<td class=val>01 M1CS Startup</td></tr><tr class=odd><td class=val><a href=\"https://opencae.jpl.nasa.gov/mms/rdf/element/_17_0_5_1_876026b_1410733636145_416173_89014\" target=\"_other\">https://opencae.jpl.nasa.gov/mms/rdf/element/_17_0_5_1_876026b_1410733636145_416173_89014</a></td>\n",
       "<td class=val>15 Respond to safety event</td></tr><tr class=even><td class=val><a href=\"https://opencae.jpl.nasa.gov/mms/rdf/element/_17_0_2_3_41e01aa_1378911848970_849598_37471\" target=\"_other\">https://opencae.jpl.nasa.gov/mms/rdf/element/_17_0_2_3_41e01aa_1378911848970_849598_37471</a></td>\n",
       "<td class=val>Display Results to APS Operator</td></tr><tr class=odd><td class=val><a href=\"https://opencae.jpl.nasa.gov/mms/rdf/element/_17_0_2_3_41e01aa_1383168039089_680015_80706\" target=\"_other\">https://opencae.jpl.nasa.gov/mms/rdf/element/_17_0_2_3_41e01aa_1383168039089_680015_80706</a></td>\n",
       "<td class=val>Update APT Camera Parameters</td></tr><tr class=even><td class=val><a href=\"https://opencae.jpl.nasa.gov/mms/rdf/element/_17_0_2_3_b4c02e1_1399418150193_595649_172580\" target=\"_other\">https://opencae.jpl.nasa.gov/mms/rdf/element/_17_0_2_3_b4c02e1_1399418150193_595649_172580</a></td>\n",
       "<td class=val>Determine APS Bench Mass</td></tr></table><div class=\"tinfo\">Total: 53, Shown: 20</div></div>"
      ]
     },
     "metadata": {},
     "output_type": "display_data"
    }
   ],
   "source": [
    "select ?activity ?label {\n",
    "   ?activity a mms-class:Activity ;\n",
    "      rdfs:label ?label ;\n",
    "      .\n",
    "      \n",
    "   filter not exists {\n",
    "      ?ref mms-property:activityId ?activity .\n",
    "   }\n",
    "}"
   ]
  },
  {
   "cell_type": "markdown",
   "metadata": {},
   "source": [
    "## Find deadlock states, i.e. incoming transitions but not outgoing\n",
    "\n",
    "> IncQuery (viatra) equivalent:\n",
    "```\n",
    "pattern deadlockStateSimplified(state : State){\n",
    "\tState.incoming(state, _);\n",
    "\tneg FinalState(state);\n",
    "\tneg State.outgoing(state, _);\n",
    "}\n",
    "```"
   ]
  },
  {
   "cell_type": "code",
   "execution_count": 29,
   "metadata": {},
   "outputs": [
    {
     "data": {
      "text/html": [
       "<div class=\"krn-spql\"><table><tr class=hdr><th>state</th>\n",
       "<th>label</th></tr><tr class=odd><td class=val><a href=\"https://opencae.jpl.nasa.gov/mms/rdf/element/_18_0_2_6a3023c_1429118521405_715413_133259\" target=\"_other\">https://opencae.jpl.nasa.gov/mms/rdf/element/_18_0_2_6a3023c_1429118521405_715413_133259</a></td>\n",
       "<td class=val>Post-Segment Exchange Alignment</td></tr><tr class=even><td class=val><a href=\"https://opencae.jpl.nasa.gov/mms/rdf/element/_18_0_5_baa02e2_1456785729817_445498_147870\" target=\"_other\">https://opencae.jpl.nasa.gov/mms/rdf/element/_18_0_5_baa02e2_1456785729817_445498_147870</a></td>\n",
       "<td class=val>M3 Done</td></tr><tr class=odd><td class=val><a href=\"https://opencae.jpl.nasa.gov/mms/rdf/element/_18_0_5_f1d0357_1464904037285_758722_150922\" target=\"_other\">https://opencae.jpl.nasa.gov/mms/rdf/element/_18_0_5_f1d0357_1464904037285_758722_150922</a></td>\n",
       "<td class=val>Active</td></tr><tr class=even><td class=val><a href=\"https://opencae.jpl.nasa.gov/mms/rdf/element/_18_0_4_baa02e2_1435158879469_117409_146038\" target=\"_other\">https://opencae.jpl.nasa.gov/mms/rdf/element/_18_0_4_baa02e2_1435158879469_117409_146038</a></td>\n",
       "<td class=val>active</td></tr><tr class=odd><td class=val><a href=\"https://opencae.jpl.nasa.gov/mms/rdf/element/_18_0_5_baa02e2_1457644933498_809248_164430\" target=\"_other\">https://opencae.jpl.nasa.gov/mms/rdf/element/_18_0_5_baa02e2_1457644933498_809248_164430</a></td>\n",
       "<td class=val>Time Flowing</td></tr><tr class=even><td class=val><a href=\"https://opencae.jpl.nasa.gov/mms/rdf/element/_18_0_5_baa02e2_1453402921446_96961_147569\" target=\"_other\">https://opencae.jpl.nasa.gov/mms/rdf/element/_18_0_5_baa02e2_1453402921446_96961_147569</a></td>\n",
       "<td class=val>Ready</td></tr><tr class=odd><td class=val><a href=\"https://opencae.jpl.nasa.gov/mms/rdf/element/_18_0_5_baa02e2_1457644933536_341871_164615\" target=\"_other\">https://opencae.jpl.nasa.gov/mms/rdf/element/_18_0_5_baa02e2_1457644933536_341871_164615</a></td>\n",
       "<td class=val>Time Flowing</td></tr><tr class=even><td class=val><a href=\"https://opencae.jpl.nasa.gov/mms/rdf/element/_18_0_5_baa02e2_1457644933457_725466_164235\" target=\"_other\">https://opencae.jpl.nasa.gov/mms/rdf/element/_18_0_5_baa02e2_1457644933457_725466_164235</a></td>\n",
       "<td class=val>Time Flowing</td></tr><tr class=odd><td class=val><a href=\"https://opencae.jpl.nasa.gov/mms/rdf/element/_18_0_5_baa02e2_1456785737897_650039_147885\" target=\"_other\">https://opencae.jpl.nasa.gov/mms/rdf/element/_18_0_5_baa02e2_1456785737897_650039_147885</a></td>\n",
       "<td class=val>M2 Done</td></tr><tr class=even><td class=val><a href=\"https://opencae.jpl.nasa.gov/mms/rdf/element/_18_0_5_baa02e2_1456785745682_131535_147900\" target=\"_other\">https://opencae.jpl.nasa.gov/mms/rdf/element/_18_0_5_baa02e2_1456785745682_131535_147900</a></td>\n",
       "<td class=val>Pupil Done</td></tr><tr class=odd><td class=val><a href=\"https://opencae.jpl.nasa.gov/mms/rdf/element/_18_0_5_baa02e2_1456785721008_690480_147855\" target=\"_other\">https://opencae.jpl.nasa.gov/mms/rdf/element/_18_0_5_baa02e2_1456785721008_690480_147855</a></td>\n",
       "<td class=val>Offset Done</td></tr><tr class=even><td class=val><a href=\"https://opencae.jpl.nasa.gov/mms/rdf/element/_18_0_5_baa02e2_1457644933443_572401_164172\" target=\"_other\">https://opencae.jpl.nasa.gov/mms/rdf/element/_18_0_5_baa02e2_1457644933443_572401_164172</a></td>\n",
       "<td class=val>Time Flowing</td></tr><tr class=odd><td class=val><a href=\"https://opencae.jpl.nasa.gov/mms/rdf/element/_18_0_5_baa02e2_1457644933448_445708_164193\" target=\"_other\">https://opencae.jpl.nasa.gov/mms/rdf/element/_18_0_5_baa02e2_1457644933448_445708_164193</a></td>\n",
       "<td class=val>Time Flowing</td></tr><tr class=even><td class=val><a href=\"https://opencae.jpl.nasa.gov/mms/rdf/element/_18_0_4_baa02e2_1436202328454_622180_145948\" target=\"_other\">https://opencae.jpl.nasa.gov/mms/rdf/element/_18_0_4_baa02e2_1436202328454_622180_145948</a></td>\n",
       "<td class=val>Idle</td></tr><tr class=odd><td class=val><a href=\"https://opencae.jpl.nasa.gov/mms/rdf/element/_17_0_2_3_41e01aa_1383549555666_193075_66135\" target=\"_other\">https://opencae.jpl.nasa.gov/mms/rdf/element/_17_0_2_3_41e01aa_1383549555666_193075_66135</a></td>\n",
       "<td class=val>Publish CCD Temperature</td></tr></table><div class=\"tinfo\">Total: 15, Shown: 15</div></div>"
      ]
     },
     "metadata": {},
     "output_type": "display_data"
    }
   ],
   "source": [
    "select ?state ?label {\n",
    "   ?state a mms-class:State ;\n",
    "      rdfs:label ?label ;\n",
    "      mms-property:incomingIds/rdf:rest*/rdf:first ?incoming ;\n",
    "      mms-property:outgoingIds rdf:nil ;\n",
    "      .\n",
    "}"
   ]
  },
  {
   "cell_type": "markdown",
   "metadata": {},
   "source": [
    "# Find pins which are not connected to anything\n",
    "\n",
    "> IncQuery (viatra) equivalent\n",
    "```\n",
    "pattern PinWithoutConnectedParameters(pin : Pin){\n",
    "\tneg find PinsWithConnectedParameters(pin, _);\n",
    "}\n",
    "```"
   ]
  },
  {
   "cell_type": "code",
   "execution_count": 30,
   "metadata": {},
   "outputs": [
    {
     "data": {
      "text/html": [
       "<div class=\"krn-spql\"><table><tr class=hdr><th>pin</th>\n",
       "<th>label</th></tr><tr class=odd><td class=val><a href=\"https://opencae.jpl.nasa.gov/mms/rdf/element/_17_0_2_3_b4c02e1_1378391977437_868731_47626\" target=\"_other\">https://opencae.jpl.nasa.gov/mms/rdf/element/_17_0_2_3_b4c02e1_1378391977437_868731_47626</a></td>\n",
       "<td class=val>CameraParam</td></tr><tr class=even><td class=val><a href=\"https://opencae.jpl.nasa.gov/mms/rdf/element/_17_0_2_3_876026b_1376261598528_399309_66999\" target=\"_other\">https://opencae.jpl.nasa.gov/mms/rdf/element/_17_0_2_3_876026b_1376261598528_399309_66999</a></td>\n",
       "<td class=val>new_zernike_modes</td></tr><tr class=odd><td class=val><a href=\"https://opencae.jpl.nasa.gov/mms/rdf/element/_17_0_2_3_b4c02e1_1378391977177_609572_46877\" target=\"_other\">https://opencae.jpl.nasa.gov/mms/rdf/element/_17_0_2_3_b4c02e1_1378391977177_609572_46877</a></td>\n",
       "<td class=val>cmd</td></tr><tr class=even><td class=val><a href=\"https://opencae.jpl.nasa.gov/mms/rdf/element/_17_0_2_3_b4c02e1_1378391976931_668955_46721\" target=\"_other\">https://opencae.jpl.nasa.gov/mms/rdf/element/_17_0_2_3_b4c02e1_1378391976931_668955_46721</a></td>\n",
       "<td class=val>PMaskID</td></tr><tr class=odd><td class=val><a href=\"https://opencae.jpl.nasa.gov/mms/rdf/element/_17_0_2_3_b4c02e1_1378391976942_345634_46757\" target=\"_other\">https://opencae.jpl.nasa.gov/mms/rdf/element/_17_0_2_3_b4c02e1_1378391976942_345634_46757</a></td>\n",
       "<td class=val>PupilMaskID</td></tr><tr class=even><td class=val><a href=\"https://opencae.jpl.nasa.gov/mms/rdf/element/_18_0_5_876026b_1469118340245_430193_168626\" target=\"_other\">https://opencae.jpl.nasa.gov/mms/rdf/element/_18_0_5_876026b_1469118340245_430193_168626</a></td>\n",
       "<td class=val>velCmd</td></tr><tr class=odd><td class=val><a href=\"https://opencae.jpl.nasa.gov/mms/rdf/element/_18_0_5_876026b_1469118340222_790315_168604\" target=\"_other\">https://opencae.jpl.nasa.gov/mms/rdf/element/_18_0_5_876026b_1469118340222_790315_168604</a></td>\n",
       "<td class=val>target</td></tr><tr class=even><td class=val><a href=\"https://opencae.jpl.nasa.gov/mms/rdf/element/_18_0_4_baa02e2_1444925143200_68359_158352\" target=\"_other\">https://opencae.jpl.nasa.gov/mms/rdf/element/_18_0_4_baa02e2_1444925143200_68359_158352</a></td>\n",
       "<td class=val>Vmag</td></tr><tr class=odd><td class=val><a href=\"https://opencae.jpl.nasa.gov/mms/rdf/element/_18_0_4_baa02e2_1443051363863_748052_150763\" target=\"_other\">https://opencae.jpl.nasa.gov/mms/rdf/element/_18_0_4_baa02e2_1443051363863_748052_150763</a></td>\n",
       "<td class=val>doAcquisition</td></tr><tr class=even><td class=val><a href=\"https://opencae.jpl.nasa.gov/mms/rdf/element/_17_0_2_3_876026b_1377730265058_682784_85420\" target=\"_other\">https://opencae.jpl.nasa.gov/mms/rdf/element/_17_0_2_3_876026b_1377730265058_682784_85420</a></td>\n",
       "<td class=val>actuator_filter_gains</td></tr><tr class=odd><td class=val><a href=\"https://opencae.jpl.nasa.gov/mms/rdf/element/_17_0_2_3_876026b_1377730276099_885049_85456\" target=\"_other\">https://opencae.jpl.nasa.gov/mms/rdf/element/_17_0_2_3_876026b_1377730276099_885049_85456</a></td>\n",
       "<td class=val>target_modes</td></tr><tr class=even><td class=val><a href=\"https://opencae.jpl.nasa.gov/mms/rdf/element/_18_0_4_baa02e2_1444925143201_351670_158356\" target=\"_other\">https://opencae.jpl.nasa.gov/mms/rdf/element/_18_0_4_baa02e2_1444925143201_351670_158356</a></td>\n",
       "<td class=val>filter</td></tr><tr class=odd><td class=val><a href=\"https://opencae.jpl.nasa.gov/mms/rdf/element/_18_0_4_baa02e2_1444925204564_212404_158448\" target=\"_other\">https://opencae.jpl.nasa.gov/mms/rdf/element/_18_0_4_baa02e2_1444925204564_212404_158448</a></td>\n",
       "<td class=val>starCoords</td></tr><tr class=even><td class=val><a href=\"https://opencae.jpl.nasa.gov/mms/rdf/element/_18_0_4_baa02e2_1443051366951_897987_150764\" target=\"_other\">https://opencae.jpl.nasa.gov/mms/rdf/element/_18_0_4_baa02e2_1443051366951_897987_150764</a></td>\n",
       "<td class=val>doGuide</td></tr><tr class=odd><td class=val><a href=\"https://opencae.jpl.nasa.gov/mms/rdf/element/_18_0_4_baa02e2_1444925143202_424687_158357\" target=\"_other\">https://opencae.jpl.nasa.gov/mms/rdf/element/_18_0_4_baa02e2_1444925143202_424687_158357</a></td>\n",
       "<td class=val>rate</td></tr><tr class=even><td class=val><a href=\"https://opencae.jpl.nasa.gov/mms/rdf/element/_18_0_4_baa02e2_1441907756833_314771_157605\" target=\"_other\">https://opencae.jpl.nasa.gov/mms/rdf/element/_18_0_4_baa02e2_1441907756833_314771_157605</a></td>\n",
       "<td class=val>doGuide</td></tr><tr class=odd><td class=val><a href=\"https://opencae.jpl.nasa.gov/mms/rdf/element/_17_0_2_3_876026b_1376261606759_168738_67021\" target=\"_other\">https://opencae.jpl.nasa.gov/mms/rdf/element/_17_0_2_3_876026b_1376261606759_168738_67021</a></td>\n",
       "<td class=val>zernike_modes</td></tr><tr class=even><td class=val><a href=\"https://opencae.jpl.nasa.gov/mms/rdf/element/_18_0_4_baa02e2_1440708472987_718882_150092\" target=\"_other\">https://opencae.jpl.nasa.gov/mms/rdf/element/_18_0_4_baa02e2_1440708472987_718882_150092</a></td>\n",
       "<td class=val>parameter</td></tr><tr class=odd><td class=val><a href=\"https://opencae.jpl.nasa.gov/mms/rdf/element/_17_0_2_3_876026b_1376249977383_755457_63308\" target=\"_other\">https://opencae.jpl.nasa.gov/mms/rdf/element/_17_0_2_3_876026b_1376249977383_755457_63308</a></td>\n",
       "<td class=val>sensor_calib_coef</td></tr><tr class=even><td class=val><a href=\"https://opencae.jpl.nasa.gov/mms/rdf/element/_18_0_4_baa02e2_1444925143201_162522_158354\" target=\"_other\">https://opencae.jpl.nasa.gov/mms/rdf/element/_18_0_4_baa02e2_1444925143201_162522_158354</a></td>\n",
       "<td class=val>ROI</td></tr></table><div class=\"tinfo\">Total: 46, Shown: 20</div></div>"
      ]
     },
     "metadata": {},
     "output_type": "display_data"
    }
   ],
   "source": [
    "select ?pin ?label {\n",
    "   ?pin a mms-class:InputPin ;\n",
    "      rdfs:label ?label ;\n",
    "      mms-property:outgoingIds rdf:nil ;\n",
    "      mms-property:incomingIds rdf:nil ;\n",
    "      .\n",
    "}"
   ]
  },
  {
   "cell_type": "markdown",
   "metadata": {},
   "source": [
    "# Find signals that are sent but not received\n",
    "\n",
    "> IncQuery (viatra) equivalent:\n",
    "```\n",
    "pattern sentButNotReceivedSignals(signal : Signal){\n",
    "\tfind sentSignals(signal, _);\n",
    "\tneg find receivedSignals(signal, _);\n",
    "}\n",
    "```"
   ]
  },
  {
   "cell_type": "code",
   "execution_count": 32,
   "metadata": {},
   "outputs": [
    {
     "data": {
      "text/html": [
       "<div class=\"krn-spql\"><table><tr class=hdr><th>signal</th>\n",
       "<th>label</th></tr><tr class=odd><td class=val><a href=\"https://opencae.jpl.nasa.gov/mms/rdf/element/_17_0_2_3_41e01aa_1383540590418_143586_58196\" target=\"_other\">https://opencae.jpl.nasa.gov/mms/rdf/element/_17_0_2_3_41e01aa_1383540590418_143586_58196</a></td>\n",
       "<td class=val>Finished</td></tr><tr class=even><td class=val><a href=\"https://opencae.jpl.nasa.gov/mms/rdf/element/_17_0_2_3_41e01aa_1383540590418_143586_58196\" target=\"_other\">https://opencae.jpl.nasa.gov/mms/rdf/element/_17_0_2_3_41e01aa_1383540590418_143586_58196</a></td>\n",
       "<td class=val>Finished</td></tr><tr class=odd><td class=val><a href=\"https://opencae.jpl.nasa.gov/mms/rdf/element/_17_0_2_3_41e01aa_1383540590418_143586_58196\" target=\"_other\">https://opencae.jpl.nasa.gov/mms/rdf/element/_17_0_2_3_41e01aa_1383540590418_143586_58196</a></td>\n",
       "<td class=val>Finished</td></tr><tr class=even><td class=val><a href=\"https://opencae.jpl.nasa.gov/mms/rdf/element/_17_0_2_3_41e01aa_1383540590418_143586_58196\" target=\"_other\">https://opencae.jpl.nasa.gov/mms/rdf/element/_17_0_2_3_41e01aa_1383540590418_143586_58196</a></td>\n",
       "<td class=val>Finished</td></tr><tr class=odd><td class=val><a href=\"https://opencae.jpl.nasa.gov/mms/rdf/element/_17_0_2_3_41e01aa_1383540590418_143586_58196\" target=\"_other\">https://opencae.jpl.nasa.gov/mms/rdf/element/_17_0_2_3_41e01aa_1383540590418_143586_58196</a></td>\n",
       "<td class=val>Finished</td></tr><tr class=even><td class=val><a href=\"https://opencae.jpl.nasa.gov/mms/rdf/element/_17_0_2_3_41e01aa_1383540590418_143586_58196\" target=\"_other\">https://opencae.jpl.nasa.gov/mms/rdf/element/_17_0_2_3_41e01aa_1383540590418_143586_58196</a></td>\n",
       "<td class=val>Finished</td></tr><tr class=odd><td class=val><a href=\"https://opencae.jpl.nasa.gov/mms/rdf/element/_17_0_2_3_41e01aa_1383540590418_143586_58196\" target=\"_other\">https://opencae.jpl.nasa.gov/mms/rdf/element/_17_0_2_3_41e01aa_1383540590418_143586_58196</a></td>\n",
       "<td class=val>Finished</td></tr><tr class=even><td class=val><a href=\"https://opencae.jpl.nasa.gov/mms/rdf/element/_17_0_2_3_41e01aa_1383540590418_143586_58196\" target=\"_other\">https://opencae.jpl.nasa.gov/mms/rdf/element/_17_0_2_3_41e01aa_1383540590418_143586_58196</a></td>\n",
       "<td class=val>Finished</td></tr><tr class=odd><td class=val><a href=\"https://opencae.jpl.nasa.gov/mms/rdf/element/_17_0_2_3_41e01aa_1383540590418_143586_58196\" target=\"_other\">https://opencae.jpl.nasa.gov/mms/rdf/element/_17_0_2_3_41e01aa_1383540590418_143586_58196</a></td>\n",
       "<td class=val>Finished</td></tr><tr class=even><td class=val><a href=\"https://opencae.jpl.nasa.gov/mms/rdf/element/_17_0_2_3_41e01aa_1383540590418_143586_58196\" target=\"_other\">https://opencae.jpl.nasa.gov/mms/rdf/element/_17_0_2_3_41e01aa_1383540590418_143586_58196</a></td>\n",
       "<td class=val>Finished</td></tr><tr class=odd><td class=val><a href=\"https://opencae.jpl.nasa.gov/mms/rdf/element/_17_0_2_3_41e01aa_1383540590418_143586_58196\" target=\"_other\">https://opencae.jpl.nasa.gov/mms/rdf/element/_17_0_2_3_41e01aa_1383540590418_143586_58196</a></td>\n",
       "<td class=val>Finished</td></tr><tr class=even><td class=val><a href=\"https://opencae.jpl.nasa.gov/mms/rdf/element/_17_0_2_3_41e01aa_1383540590418_143586_58196\" target=\"_other\">https://opencae.jpl.nasa.gov/mms/rdf/element/_17_0_2_3_41e01aa_1383540590418_143586_58196</a></td>\n",
       "<td class=val>Finished</td></tr><tr class=odd><td class=val><a href=\"https://opencae.jpl.nasa.gov/mms/rdf/element/_17_0_2_3_41e01aa_1383540590418_143586_58196\" target=\"_other\">https://opencae.jpl.nasa.gov/mms/rdf/element/_17_0_2_3_41e01aa_1383540590418_143586_58196</a></td>\n",
       "<td class=val>Finished</td></tr><tr class=even><td class=val><a href=\"https://opencae.jpl.nasa.gov/mms/rdf/element/_17_0_2_3_41e01aa_1383540590418_143586_58196\" target=\"_other\">https://opencae.jpl.nasa.gov/mms/rdf/element/_17_0_2_3_41e01aa_1383540590418_143586_58196</a></td>\n",
       "<td class=val>Finished</td></tr><tr class=odd><td class=val><a href=\"https://opencae.jpl.nasa.gov/mms/rdf/element/_17_0_2_3_41e01aa_1383540590418_143586_58196\" target=\"_other\">https://opencae.jpl.nasa.gov/mms/rdf/element/_17_0_2_3_41e01aa_1383540590418_143586_58196</a></td>\n",
       "<td class=val>Finished</td></tr><tr class=even><td class=val><a href=\"https://opencae.jpl.nasa.gov/mms/rdf/element/_17_0_2_3_41e01aa_1383540590418_143586_58196\" target=\"_other\">https://opencae.jpl.nasa.gov/mms/rdf/element/_17_0_2_3_41e01aa_1383540590418_143586_58196</a></td>\n",
       "<td class=val>Finished</td></tr><tr class=odd><td class=val><a href=\"https://opencae.jpl.nasa.gov/mms/rdf/element/_17_0_2_3_41e01aa_1383540590418_143586_58196\" target=\"_other\">https://opencae.jpl.nasa.gov/mms/rdf/element/_17_0_2_3_41e01aa_1383540590418_143586_58196</a></td>\n",
       "<td class=val>Finished</td></tr><tr class=even><td class=val><a href=\"https://opencae.jpl.nasa.gov/mms/rdf/element/_17_0_2_3_41e01aa_1383540590418_143586_58196\" target=\"_other\">https://opencae.jpl.nasa.gov/mms/rdf/element/_17_0_2_3_41e01aa_1383540590418_143586_58196</a></td>\n",
       "<td class=val>Finished</td></tr><tr class=odd><td class=val><a href=\"https://opencae.jpl.nasa.gov/mms/rdf/element/_17_0_2_3_41e01aa_1383540590418_143586_58196\" target=\"_other\">https://opencae.jpl.nasa.gov/mms/rdf/element/_17_0_2_3_41e01aa_1383540590418_143586_58196</a></td>\n",
       "<td class=val>Finished</td></tr><tr class=even><td class=val><a href=\"https://opencae.jpl.nasa.gov/mms/rdf/element/_17_0_2_3_41e01aa_1383540590418_143586_58196\" target=\"_other\">https://opencae.jpl.nasa.gov/mms/rdf/element/_17_0_2_3_41e01aa_1383540590418_143586_58196</a></td>\n",
       "<td class=val>Finished</td></tr></table><div class=\"tinfo\">Total: 280, Shown: 20</div></div>"
      ]
     },
     "metadata": {},
     "output_type": "display_data"
    }
   ],
   "source": [
    "select ?signal ?label {\n",
    "   ?signal a mms-class:Signal ;\n",
    "      rdfs:label ?label ;\n",
    "      .\n",
    "\n",
    "   ?sentSignal a mms-class:SendSignalAction ;\n",
    "      mms-property:signalId ?signal ;\n",
    "      .\n",
    "   \n",
    "   filter not exists {\n",
    "      ?received a mms-class:Reception ;\n",
    "         mms-property:signalId ?signal ;\n",
    "         .\n",
    "   }\n",
    "}"
   ]
  },
  {
   "cell_type": "markdown",
   "metadata": {},
   "source": [
    "# Find signals that are received but not sent\n",
    "\n",
    "> IncQuery (viatra) equivalent:\n",
    "```\n",
    "pattern receivedButNotSentSignals(signal : Signal){\n",
    "\tneg find sentSignals(signal, _);\n",
    "\tfind receivedSignals(signal, _);\n",
    "}\n",
    "```"
   ]
  },
  {
   "cell_type": "code",
   "execution_count": 34,
   "metadata": {},
   "outputs": [
    {
     "data": {
      "text/html": [
       "<div class=\"krn-spql\"><table><tr class=hdr><th>signal</th>\n",
       "<th>label</th></tr><tr class=odd><td class=val><a href=\"https://opencae.jpl.nasa.gov/mms/rdf/element/_18_0_2_b4c02e1_1428620907858_598008_291134\" target=\"_other\">https://opencae.jpl.nasa.gov/mms/rdf/element/_18_0_2_b4c02e1_1428620907858_598008_291134</a></td>\n",
       "<td class=val>moveSegments</td></tr></table><div class=\"tinfo\">Total: 1, Shown: 1</div></div>"
      ]
     },
     "metadata": {},
     "output_type": "display_data"
    }
   ],
   "source": [
    "select ?signal ?label {\n",
    "   ?signal a mms-class:Signal ;\n",
    "      rdfs:label ?label ;\n",
    "      .\n",
    "\n",
    "    ?received a mms-class:Reception ;\n",
    "       mms-property:signalId ?signal ;\n",
    "       .\n",
    "   \n",
    "   filter not exists {\n",
    "      ?sentSignal a mms-class:SendSignalAction ;\n",
    "         mms-property:signalId ?signal ;\n",
    "         .\n",
    "   }\n",
    "}"
   ]
  },
  {
   "cell_type": "markdown",
   "metadata": {},
   "source": [
    "# Discrepancies\n",
    "\n",
    "### IncQuery only returns 7 Signals that are referenced by SignalEvents and not by Receptions\n",
    "\n"
   ]
  },
  {
   "cell_type": "code",
   "execution_count": 35,
   "metadata": {},
   "outputs": [
    {
     "data": {
      "text/html": [
       "<div class=\"krn-spql\"><table><tr class=hdr><th>signal</th>\n",
       "<th>signalLabel</th>\n",
       "<th>ref</th>\n",
       "<th>refType</th></tr><tr class=odd><td class=val><a href=\"https://opencae.jpl.nasa.gov/mms/rdf/element/_17_0_2_3_b4c02e1_1378391972996_985068_45006\" target=\"_other\">https://opencae.jpl.nasa.gov/mms/rdf/element/_17_0_2_3_b4c02e1_1378391972996_985068_45006</a></td>\n",
       "<td class=val>signal_Get_segment_intalled_Query</td>\n",
       "<td class=val><a href=\"https://opencae.jpl.nasa.gov/mms/rdf/element/_17_0_2_3_b4c02e1_1378391976313_944508_46483\" target=\"_other\">https://opencae.jpl.nasa.gov/mms/rdf/element/_17_0_2_3_b4c02e1_1378391976313_944508_46483</a></td>\n",
       "<td class=val><a href=\"https://opencae.jpl.nasa.gov/mms/rdf/class/SignalEvent\" target=\"_other\">https://opencae.jpl.nasa.gov/mms/rdf/class/SignalEvent</a></td></tr><tr class=even><td class=val><a href=\"https://opencae.jpl.nasa.gov/mms/rdf/element/_17_0_2_3_41e01aa_1381862763680_701901_73001\" target=\"_other\">https://opencae.jpl.nasa.gov/mms/rdf/element/_17_0_2_3_41e01aa_1381862763680_701901_73001</a></td>\n",
       "<td class=val>finish</td>\n",
       "<td class=val><a href=\"https://opencae.jpl.nasa.gov/mms/rdf/element/_17_0_2_3_41e01aa_1382473369032_30152_51203\" target=\"_other\">https://opencae.jpl.nasa.gov/mms/rdf/element/_17_0_2_3_41e01aa_1382473369032_30152_51203</a></td>\n",
       "<td class=val><a href=\"https://opencae.jpl.nasa.gov/mms/rdf/class/SignalEvent\" target=\"_other\">https://opencae.jpl.nasa.gov/mms/rdf/class/SignalEvent</a></td></tr><tr class=odd><td class=val><a href=\"https://opencae.jpl.nasa.gov/mms/rdf/element/_17_0_2_3_b4c02e1_1378391972994_739726_45001\" target=\"_other\">https://opencae.jpl.nasa.gov/mms/rdf/element/_17_0_2_3_b4c02e1_1378391972994_739726_45001</a></td>\n",
       "<td class=val>signal_SelectFilter_Query</td>\n",
       "<td class=val><a href=\"https://opencae.jpl.nasa.gov/mms/rdf/element/_17_0_2_3_b4c02e1_1378391976154_441964_46431\" target=\"_other\">https://opencae.jpl.nasa.gov/mms/rdf/element/_17_0_2_3_b4c02e1_1378391976154_441964_46431</a></td>\n",
       "<td class=val><a href=\"https://opencae.jpl.nasa.gov/mms/rdf/class/SignalEvent\" target=\"_other\">https://opencae.jpl.nasa.gov/mms/rdf/class/SignalEvent</a></td></tr><tr class=even><td class=val><a href=\"https://opencae.jpl.nasa.gov/mms/rdf/element/_17_0_2_3_b4c02e1_1378391972992_879691_44995\" target=\"_other\">https://opencae.jpl.nasa.gov/mms/rdf/element/_17_0_2_3_b4c02e1_1378391972992_879691_44995</a></td>\n",
       "<td class=val>Receive reply from TCS</td>\n",
       "<td class=val><a href=\"https://opencae.jpl.nasa.gov/mms/rdf/element/_17_0_2_3_b4c02e1_1378391973514_450118_45170\" target=\"_other\">https://opencae.jpl.nasa.gov/mms/rdf/element/_17_0_2_3_b4c02e1_1378391973514_450118_45170</a></td>\n",
       "<td class=val><a href=\"https://opencae.jpl.nasa.gov/mms/rdf/class/SignalEvent\" target=\"_other\">https://opencae.jpl.nasa.gov/mms/rdf/class/SignalEvent</a></td></tr><tr class=odd><td class=val><a href=\"https://opencae.jpl.nasa.gov/mms/rdf/element/_18_0_2_baa02e2_1429906373055_517994_146137\" target=\"_other\">https://opencae.jpl.nasa.gov/mms/rdf/element/_18_0_2_baa02e2_1429906373055_517994_146137</a></td>\n",
       "<td class=val>tick</td>\n",
       "<td class=val><a href=\"https://opencae.jpl.nasa.gov/mms/rdf/element/_18_0_2_baa02e2_1429906378140_398231_146224\" target=\"_other\">https://opencae.jpl.nasa.gov/mms/rdf/element/_18_0_2_baa02e2_1429906378140_398231_146224</a></td>\n",
       "<td class=val><a href=\"https://opencae.jpl.nasa.gov/mms/rdf/class/SignalEvent\" target=\"_other\">https://opencae.jpl.nasa.gov/mms/rdf/class/SignalEvent</a></td></tr><tr class=even><td class=val><a href=\"https://opencae.jpl.nasa.gov/mms/rdf/element/_17_0_2_3_b4c02e1_1378391972995_121592_45003\" target=\"_other\">https://opencae.jpl.nasa.gov/mms/rdf/element/_17_0_2_3_b4c02e1_1378391972995_121592_45003</a></td>\n",
       "<td class=val>signal_SelectPupilMask_Query</td>\n",
       "<td class=val><a href=\"https://opencae.jpl.nasa.gov/mms/rdf/element/_17_0_2_3_b4c02e1_1378391976153_632687_46430\" target=\"_other\">https://opencae.jpl.nasa.gov/mms/rdf/element/_17_0_2_3_b4c02e1_1378391976153_632687_46430</a></td>\n",
       "<td class=val><a href=\"https://opencae.jpl.nasa.gov/mms/rdf/class/SignalEvent\" target=\"_other\">https://opencae.jpl.nasa.gov/mms/rdf/class/SignalEvent</a></td></tr><tr class=odd><td class=val><a href=\"https://opencae.jpl.nasa.gov/mms/rdf/element/_17_0_2_3_41e01aa_1381862763680_701901_73001\" target=\"_other\">https://opencae.jpl.nasa.gov/mms/rdf/element/_17_0_2_3_41e01aa_1381862763680_701901_73001</a></td>\n",
       "<td class=val>finish</td>\n",
       "<td class=val><a href=\"https://opencae.jpl.nasa.gov/mms/rdf/element/_17_0_2_3_41e01aa_1381855981859_972879_57169\" target=\"_other\">https://opencae.jpl.nasa.gov/mms/rdf/element/_17_0_2_3_41e01aa_1381855981859_972879_57169</a></td>\n",
       "<td class=val><a href=\"https://opencae.jpl.nasa.gov/mms/rdf/class/SignalEvent\" target=\"_other\">https://opencae.jpl.nasa.gov/mms/rdf/class/SignalEvent</a></td></tr><tr class=even><td class=val><a href=\"https://opencae.jpl.nasa.gov/mms/rdf/element/_17_0_2_3_41e01aa_1381862763680_701901_73001\" target=\"_other\">https://opencae.jpl.nasa.gov/mms/rdf/element/_17_0_2_3_41e01aa_1381862763680_701901_73001</a></td>\n",
       "<td class=val>finish</td>\n",
       "<td class=val><a href=\"https://opencae.jpl.nasa.gov/mms/rdf/element/_17_0_2_3_41e01aa_1383545279139_764378_54460\" target=\"_other\">https://opencae.jpl.nasa.gov/mms/rdf/element/_17_0_2_3_41e01aa_1383545279139_764378_54460</a></td>\n",
       "<td class=val><a href=\"https://opencae.jpl.nasa.gov/mms/rdf/class/SignalEvent\" target=\"_other\">https://opencae.jpl.nasa.gov/mms/rdf/class/SignalEvent</a></td></tr><tr class=odd><td class=val><a href=\"https://opencae.jpl.nasa.gov/mms/rdf/element/_17_0_2_3_41e01aa_1381862763680_701901_73001\" target=\"_other\">https://opencae.jpl.nasa.gov/mms/rdf/element/_17_0_2_3_41e01aa_1381862763680_701901_73001</a></td>\n",
       "<td class=val>finish</td>\n",
       "<td class=val><a href=\"https://opencae.jpl.nasa.gov/mms/rdf/element/_17_0_2_3_41e01aa_1382542702989_69183_59028\" target=\"_other\">https://opencae.jpl.nasa.gov/mms/rdf/element/_17_0_2_3_41e01aa_1382542702989_69183_59028</a></td>\n",
       "<td class=val><a href=\"https://opencae.jpl.nasa.gov/mms/rdf/class/SignalEvent\" target=\"_other\">https://opencae.jpl.nasa.gov/mms/rdf/class/SignalEvent</a></td></tr><tr class=even><td class=val><a href=\"https://opencae.jpl.nasa.gov/mms/rdf/element/_17_0_2_3_41e01aa_1381862763680_701901_73001\" target=\"_other\">https://opencae.jpl.nasa.gov/mms/rdf/element/_17_0_2_3_41e01aa_1381862763680_701901_73001</a></td>\n",
       "<td class=val>finish</td>\n",
       "<td class=val><a href=\"https://opencae.jpl.nasa.gov/mms/rdf/element/_17_0_2_3_41e01aa_1389732003987_27595_74006\" target=\"_other\">https://opencae.jpl.nasa.gov/mms/rdf/element/_17_0_2_3_41e01aa_1389732003987_27595_74006</a></td>\n",
       "<td class=val><a href=\"https://opencae.jpl.nasa.gov/mms/rdf/class/SignalEvent\" target=\"_other\">https://opencae.jpl.nasa.gov/mms/rdf/class/SignalEvent</a></td></tr><tr class=odd><td class=val><a href=\"https://opencae.jpl.nasa.gov/mms/rdf/element/_17_0_2_3_41e01aa_1381862763680_701901_73001\" target=\"_other\">https://opencae.jpl.nasa.gov/mms/rdf/element/_17_0_2_3_41e01aa_1381862763680_701901_73001</a></td>\n",
       "<td class=val>finish</td>\n",
       "<td class=val><a href=\"https://opencae.jpl.nasa.gov/mms/rdf/element/_17_0_2_3_41e01aa_1383543404444_43673_66803\" target=\"_other\">https://opencae.jpl.nasa.gov/mms/rdf/element/_17_0_2_3_41e01aa_1383543404444_43673_66803</a></td>\n",
       "<td class=val><a href=\"https://opencae.jpl.nasa.gov/mms/rdf/class/SignalEvent\" target=\"_other\">https://opencae.jpl.nasa.gov/mms/rdf/class/SignalEvent</a></td></tr><tr class=even><td class=val><a href=\"https://opencae.jpl.nasa.gov/mms/rdf/element/_18_0_2_baa02e2_1429906373056_452586_146143\" target=\"_other\">https://opencae.jpl.nasa.gov/mms/rdf/element/_18_0_2_baa02e2_1429906373056_452586_146143</a></td>\n",
       "<td class=val>start</td>\n",
       "<td class=val><a href=\"https://opencae.jpl.nasa.gov/mms/rdf/element/_18_0_2_baa02e2_1429906378140_46829_146225\" target=\"_other\">https://opencae.jpl.nasa.gov/mms/rdf/element/_18_0_2_baa02e2_1429906378140_46829_146225</a></td>\n",
       "<td class=val><a href=\"https://opencae.jpl.nasa.gov/mms/rdf/class/SignalEvent\" target=\"_other\">https://opencae.jpl.nasa.gov/mms/rdf/class/SignalEvent</a></td></tr><tr class=odd><td class=val><a href=\"https://opencae.jpl.nasa.gov/mms/rdf/element/_17_0_2_3_41e01aa_1381862763680_701901_73001\" target=\"_other\">https://opencae.jpl.nasa.gov/mms/rdf/element/_17_0_2_3_41e01aa_1381862763680_701901_73001</a></td>\n",
       "<td class=val>finish</td>\n",
       "<td class=val><a href=\"https://opencae.jpl.nasa.gov/mms/rdf/element/_18_0_5_baa02e2_1453425599815_578306_174660\" target=\"_other\">https://opencae.jpl.nasa.gov/mms/rdf/element/_18_0_5_baa02e2_1453425599815_578306_174660</a></td>\n",
       "<td class=val><a href=\"https://opencae.jpl.nasa.gov/mms/rdf/class/SignalEvent\" target=\"_other\">https://opencae.jpl.nasa.gov/mms/rdf/class/SignalEvent</a></td></tr><tr class=even><td class=val><a href=\"https://opencae.jpl.nasa.gov/mms/rdf/element/_17_0_2_3_41e01aa_1381862763680_701901_73001\" target=\"_other\">https://opencae.jpl.nasa.gov/mms/rdf/element/_17_0_2_3_41e01aa_1381862763680_701901_73001</a></td>\n",
       "<td class=val>finish</td>\n",
       "<td class=val><a href=\"https://opencae.jpl.nasa.gov/mms/rdf/element/_17_0_2_3_41e01aa_1383542129676_248834_65793\" target=\"_other\">https://opencae.jpl.nasa.gov/mms/rdf/element/_17_0_2_3_41e01aa_1383542129676_248834_65793</a></td>\n",
       "<td class=val><a href=\"https://opencae.jpl.nasa.gov/mms/rdf/class/SignalEvent\" target=\"_other\">https://opencae.jpl.nasa.gov/mms/rdf/class/SignalEvent</a></td></tr><tr class=odd><td class=val><a href=\"https://opencae.jpl.nasa.gov/mms/rdf/element/_17_0_2_3_41e01aa_1381862763680_701901_73001\" target=\"_other\">https://opencae.jpl.nasa.gov/mms/rdf/element/_17_0_2_3_41e01aa_1381862763680_701901_73001</a></td>\n",
       "<td class=val>finish</td>\n",
       "<td class=val><a href=\"https://opencae.jpl.nasa.gov/mms/rdf/element/_17_0_2_3_41e01aa_1383781868534_214995_65950\" target=\"_other\">https://opencae.jpl.nasa.gov/mms/rdf/element/_17_0_2_3_41e01aa_1383781868534_214995_65950</a></td>\n",
       "<td class=val><a href=\"https://opencae.jpl.nasa.gov/mms/rdf/class/SignalEvent\" target=\"_other\">https://opencae.jpl.nasa.gov/mms/rdf/class/SignalEvent</a></td></tr><tr class=even><td class=val><a href=\"https://opencae.jpl.nasa.gov/mms/rdf/element/_17_0_2_3_41e01aa_1381862763680_701901_73001\" target=\"_other\">https://opencae.jpl.nasa.gov/mms/rdf/element/_17_0_2_3_41e01aa_1381862763680_701901_73001</a></td>\n",
       "<td class=val>finish</td>\n",
       "<td class=val><a href=\"https://opencae.jpl.nasa.gov/mms/rdf/element/_17_0_2_3_41e01aa_1382560453305_271286_80681\" target=\"_other\">https://opencae.jpl.nasa.gov/mms/rdf/element/_17_0_2_3_41e01aa_1382560453305_271286_80681</a></td>\n",
       "<td class=val><a href=\"https://opencae.jpl.nasa.gov/mms/rdf/class/SignalEvent\" target=\"_other\">https://opencae.jpl.nasa.gov/mms/rdf/class/SignalEvent</a></td></tr><tr class=odd><td class=val><a href=\"https://opencae.jpl.nasa.gov/mms/rdf/element/_17_0_2_3_41e01aa_1381862763680_701901_73001\" target=\"_other\">https://opencae.jpl.nasa.gov/mms/rdf/element/_17_0_2_3_41e01aa_1381862763680_701901_73001</a></td>\n",
       "<td class=val>finish</td>\n",
       "<td class=val><a href=\"https://opencae.jpl.nasa.gov/mms/rdf/element/_18_5_2_e64033a_1510260531621_306358_28634\" target=\"_other\">https://opencae.jpl.nasa.gov/mms/rdf/element/_18_5_2_e64033a_1510260531621_306358_28634</a></td>\n",
       "<td class=val><a href=\"https://opencae.jpl.nasa.gov/mms/rdf/class/SignalEvent\" target=\"_other\">https://opencae.jpl.nasa.gov/mms/rdf/class/SignalEvent</a></td></tr><tr class=even><td class=val><a href=\"https://opencae.jpl.nasa.gov/mms/rdf/element/_17_0_2_3_41e01aa_1381862763680_701901_73001\" target=\"_other\">https://opencae.jpl.nasa.gov/mms/rdf/element/_17_0_2_3_41e01aa_1381862763680_701901_73001</a></td>\n",
       "<td class=val>finish</td>\n",
       "<td class=val><a href=\"https://opencae.jpl.nasa.gov/mms/rdf/element/_17_0_2_3_41e01aa_1381858764721_838470_58308\" target=\"_other\">https://opencae.jpl.nasa.gov/mms/rdf/element/_17_0_2_3_41e01aa_1381858764721_838470_58308</a></td>\n",
       "<td class=val><a href=\"https://opencae.jpl.nasa.gov/mms/rdf/class/SignalEvent\" target=\"_other\">https://opencae.jpl.nasa.gov/mms/rdf/class/SignalEvent</a></td></tr><tr class=odd><td class=val><a href=\"https://opencae.jpl.nasa.gov/mms/rdf/element/_18_0_2_b4c02e1_1428620907858_598008_291134\" target=\"_other\">https://opencae.jpl.nasa.gov/mms/rdf/element/_18_0_2_b4c02e1_1428620907858_598008_291134</a></td>\n",
       "<td class=val>moveSegments</td>\n",
       "<td class=val><a href=\"https://opencae.jpl.nasa.gov/mms/rdf/element/_18_0_2_baa02e2_1428623896268_923169_132810\" target=\"_other\">https://opencae.jpl.nasa.gov/mms/rdf/element/_18_0_2_baa02e2_1428623896268_923169_132810</a></td>\n",
       "<td class=val><a href=\"https://opencae.jpl.nasa.gov/mms/rdf/class/Reception\" target=\"_other\">https://opencae.jpl.nasa.gov/mms/rdf/class/Reception</a></td></tr><tr class=even><td class=val><a href=\"https://opencae.jpl.nasa.gov/mms/rdf/element/_17_0_2_3_41e01aa_1381862763680_701901_73001\" target=\"_other\">https://opencae.jpl.nasa.gov/mms/rdf/element/_17_0_2_3_41e01aa_1381862763680_701901_73001</a></td>\n",
       "<td class=val>finish</td>\n",
       "<td class=val><a href=\"https://opencae.jpl.nasa.gov/mms/rdf/element/_17_0_2_3_41e01aa_1383153520561_725683_51974\" target=\"_other\">https://opencae.jpl.nasa.gov/mms/rdf/element/_17_0_2_3_41e01aa_1383153520561_725683_51974</a></td>\n",
       "<td class=val><a href=\"https://opencae.jpl.nasa.gov/mms/rdf/class/SignalEvent\" target=\"_other\">https://opencae.jpl.nasa.gov/mms/rdf/class/SignalEvent</a></td></tr></table><div class=\"tinfo\">Total: 20, Shown: 20</div></div>"
      ]
     },
     "metadata": {},
     "output_type": "display_data"
    }
   ],
   "source": [
    "select * {\n",
    "   ?signal rdfs:label ?signalLabel .\n",
    "\n",
    "   ?ref a ?refType ;\n",
    "      mms-property:signalId ?signal ;\n",
    "      .\n",
    "   \n",
    "\n",
    "   values ?signal {\n",
    "      mms-element:_18_0_2_b4c02e1_1428620907858_598008_291134\n",
    "      mms-element:_17_0_2_3_41e01aa_1381862763680_701901_73001\n",
    "      mms-element:_17_0_2_3_b4c02e1_1378391972994_739726_45001\n",
    "      mms-element:_17_0_2_3_b4c02e1_1378391972992_879691_44995\n",
    "      mms-element:_17_0_2_3_b4c02e1_1378391972996_985068_45006\n",
    "      mms-element:_18_0_2_baa02e2_1429906373056_452586_146143\n",
    "      mms-element:_17_0_2_3_b4c02e1_1378391972995_121592_45003\n",
    "      mms-element:_18_0_2_baa02e2_1429906373055_517994_146137\n",
    "   }\n",
    "}"
   ]
  },
  {
   "cell_type": "markdown",
   "metadata": {},
   "source": [
    "## Check if the signals sent/received over a port correspond to the flow properties on the port(s)\n",
    "\n",
    "> IncQuery (viatra) equivalent\n",
    "```\n",
    "pattern ReceivedSignalNotInFlowProperties(signal : Signal, port :Port){\n",
    "\tneg find PortFlowPropertyTypes(port, signal);\n",
    "\tfind portSignalReceptions(port, signal);\n",
    "}\n",
    "```\n",
    "```\n",
    "pattern SentSignalNotInFlowProperties(signal : Signal, port : Port){\n",
    "\tfind SentSignalOverPort(signal, port);\n",
    "\tneg find PortFlowPropertyTypes(port, signal);\n",
    "}\n",
    "```"
   ]
  },
  {
   "cell_type": "code",
   "execution_count": null,
   "metadata": {},
   "outputs": [],
   "source": []
  },
  {
   "cell_type": "markdown",
   "metadata": {},
   "source": [
    "## Identify cyclic activity calls\n",
    "\n",
    "> IncQuery (viatra) equivalent\n",
    "```\n",
    "pattern circularActivityCall(activity : Activity){\n",
    "\tfind activityCall+(activity, activity);\n",
    "}\n",
    "```"
   ]
  },
  {
   "cell_type": "code",
   "execution_count": null,
   "metadata": {},
   "outputs": [],
   "source": []
  },
  {
   "cell_type": "markdown",
   "metadata": {},
   "source": [
    "## Find pins without corresponding parameter\n",
    "\n",
    "*IncQuery equivalent?*"
   ]
  },
  {
   "cell_type": "code",
   "execution_count": null,
   "metadata": {},
   "outputs": [],
   "source": []
  },
  {
   "cell_type": "markdown",
   "metadata": {},
   "source": [
    "## Find pins which are not connected \n",
    "\n",
    "*IncQuery equivalent?*"
   ]
  },
  {
   "cell_type": "code",
   "execution_count": null,
   "metadata": {},
   "outputs": [],
   "source": []
  }
 ],
 "metadata": {
  "kernelspec": {
   "display_name": "SPARQL",
   "language": "sparql",
   "name": "sparql"
  },
  "language_info": {
   "codemirror_mode": {
    "name": "sparql"
   },
   "mimetype": "application/sparql-query",
   "name": "sparql",
   "pygments_lexer": "sparql-nb"
  }
 },
 "nbformat": 4,
 "nbformat_minor": 2
}
